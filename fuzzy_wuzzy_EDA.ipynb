{
 "cells": [
  {
   "cell_type": "code",
   "execution_count": 1,
   "metadata": {
    "execution": {
     "iopub.execute_input": "2020-08-03T20:02:46.728337Z",
     "iopub.status.busy": "2020-08-03T20:02:46.728118Z",
     "iopub.status.idle": "2020-08-03T20:02:46.742924Z",
     "shell.execute_reply": "2020-08-03T20:02:46.742278Z",
     "shell.execute_reply.started": "2020-08-03T20:02:46.728313Z"
    }
   },
   "outputs": [],
   "source": [
    "import numpy as np\n",
    "import pandas as pd\n",
    "\n",
    "from fuzzywuzzy import fuzz"
   ]
  },
  {
   "cell_type": "code",
   "execution_count": 2,
   "metadata": {
    "execution": {
     "iopub.execute_input": "2020-08-03T20:02:47.688195Z",
     "iopub.status.busy": "2020-08-03T20:02:47.687865Z",
     "iopub.status.idle": "2020-08-03T20:02:47.713452Z",
     "shell.execute_reply": "2020-08-03T20:02:47.712762Z",
     "shell.execute_reply.started": "2020-08-03T20:02:47.688169Z"
    }
   },
   "outputs": [
    {
     "data": {
      "text/html": [
       "<div>\n",
       "<style scoped>\n",
       "    .dataframe tbody tr th:only-of-type {\n",
       "        vertical-align: middle;\n",
       "    }\n",
       "\n",
       "    .dataframe tbody tr th {\n",
       "        vertical-align: top;\n",
       "    }\n",
       "\n",
       "    .dataframe thead th {\n",
       "        text-align: right;\n",
       "    }\n",
       "</style>\n",
       "<table border=\"1\" class=\"dataframe\">\n",
       "  <thead>\n",
       "    <tr style=\"text-align: right;\">\n",
       "      <th></th>\n",
       "      <th>names</th>\n",
       "      <th>id</th>\n",
       "      <th>rating</th>\n",
       "      <th>num_reviewers</th>\n",
       "    </tr>\n",
       "  </thead>\n",
       "  <tbody>\n",
       "    <tr>\n",
       "      <th>0</th>\n",
       "      <td>Gloomhaven</td>\n",
       "      <td>123</td>\n",
       "      <td>9.5</td>\n",
       "      <td>644</td>\n",
       "    </tr>\n",
       "    <tr>\n",
       "      <th>1</th>\n",
       "      <td>Gloomhaven: The Best Expansion Set</td>\n",
       "      <td>124</td>\n",
       "      <td>9.8</td>\n",
       "      <td>124</td>\n",
       "    </tr>\n",
       "    <tr>\n",
       "      <th>2</th>\n",
       "      <td>Not Kickstarter</td>\n",
       "      <td>200</td>\n",
       "      <td>4.5</td>\n",
       "      <td>23</td>\n",
       "    </tr>\n",
       "    <tr>\n",
       "      <th>3</th>\n",
       "      <td>Election</td>\n",
       "      <td>344</td>\n",
       "      <td>8.5</td>\n",
       "      <td>134</td>\n",
       "    </tr>\n",
       "    <tr>\n",
       "      <th>4</th>\n",
       "      <td>Pandemic</td>\n",
       "      <td>544</td>\n",
       "      <td>8.5</td>\n",
       "      <td>134</td>\n",
       "    </tr>\n",
       "  </tbody>\n",
       "</table>\n",
       "</div>"
      ],
      "text/plain": [
       "                                names   id rating  num_reviewers\n",
       "0                          Gloomhaven  123    9.5            644\n",
       "1  Gloomhaven: The Best Expansion Set  124    9.8            124\n",
       "2                     Not Kickstarter  200    4.5             23\n",
       "3                            Election  344    8.5            134\n",
       "4                            Pandemic  544    8.5            134"
      ]
     },
     "execution_count": 2,
     "metadata": {},
     "output_type": "execute_result"
    }
   ],
   "source": [
    "# Set up dummy data for BGG\n",
    "BGG = pd.DataFrame([{\n",
    "    \"names\": \"Gloomhaven\",\n",
    "    \"id\": 123,\n",
    "    \"rating\": \"9.5\",\n",
    "    \"num_reviewers\": 644,\n",
    "},{\n",
    "    \"names\": \"Gloomhaven: The Best Expansion Set\",\n",
    "    \"id\": 124,\n",
    "    \"rating\": \"9.8\",\n",
    "    \"num_reviewers\": 124,\n",
    "},{\n",
    "    \"names\": \"Not Kickstarter\",\n",
    "    \"id\": 200,\n",
    "    \"rating\": \"4.5\",\n",
    "    \"num_reviewers\": 23,\n",
    "},{\n",
    "    \"names\": \"Election\",\n",
    "    \"id\": 344,\n",
    "    \"rating\": \"8.5\",\n",
    "    \"num_reviewers\": 134,\n",
    "}, {\n",
    "    \"names\": \"Pandemic\",\n",
    "    \"id\": 544,\n",
    "    \"rating\": \"8.5\",\n",
    "    \"num_reviewers\": 134,\n",
    "}])\n",
    "BGG"
   ]
  },
  {
   "cell_type": "code",
   "execution_count": 3,
   "metadata": {
    "execution": {
     "iopub.execute_input": "2020-08-03T20:02:48.319616Z",
     "iopub.status.busy": "2020-08-03T20:02:48.319406Z",
     "iopub.status.idle": "2020-08-03T20:02:48.330297Z",
     "shell.execute_reply": "2020-08-03T20:02:48.329725Z",
     "shell.execute_reply.started": "2020-08-03T20:02:48.319593Z"
    }
   },
   "outputs": [
    {
     "data": {
      "text/html": [
       "<div>\n",
       "<style scoped>\n",
       "    .dataframe tbody tr th:only-of-type {\n",
       "        vertical-align: middle;\n",
       "    }\n",
       "\n",
       "    .dataframe tbody tr th {\n",
       "        vertical-align: top;\n",
       "    }\n",
       "\n",
       "    .dataframe thead th {\n",
       "        text-align: right;\n",
       "    }\n",
       "</style>\n",
       "<table border=\"1\" class=\"dataframe\">\n",
       "  <thead>\n",
       "    <tr style=\"text-align: right;\">\n",
       "      <th></th>\n",
       "      <th>name</th>\n",
       "      <th>status</th>\n",
       "      <th>usd_pledged</th>\n",
       "      <th>kick_id</th>\n",
       "    </tr>\n",
       "  </thead>\n",
       "  <tbody>\n",
       "    <tr>\n",
       "      <th>0</th>\n",
       "      <td>Gloomhaven: The Best Game Ever</td>\n",
       "      <td>success</td>\n",
       "      <td>502312</td>\n",
       "      <td>123434</td>\n",
       "    </tr>\n",
       "    <tr>\n",
       "      <th>1</th>\n",
       "      <td>Election</td>\n",
       "      <td>failure</td>\n",
       "      <td>5</td>\n",
       "      <td>234123</td>\n",
       "    </tr>\n",
       "    <tr>\n",
       "      <th>2</th>\n",
       "      <td>Some Obscure Kickstarter game with no BGG page</td>\n",
       "      <td>success</td>\n",
       "      <td>2132</td>\n",
       "      <td>523434</td>\n",
       "    </tr>\n",
       "  </tbody>\n",
       "</table>\n",
       "</div>"
      ],
      "text/plain": [
       "                                             name   status  usd_pledged  \\\n",
       "0                  Gloomhaven: The Best Game Ever  success       502312   \n",
       "1                                        Election  failure            5   \n",
       "2  Some Obscure Kickstarter game with no BGG page  success         2132   \n",
       "\n",
       "   kick_id  \n",
       "0   123434  \n",
       "1   234123  \n",
       "2   523434  "
      ]
     },
     "execution_count": 3,
     "metadata": {},
     "output_type": "execute_result"
    }
   ],
   "source": [
    "# Set up dummy data for kick_BG\n",
    "kick_BG = pd.DataFrame([{\n",
    "    \"name\": \"Gloomhaven: The Best Game Ever\",\n",
    "    \"status\": \"success\",\n",
    "    \"usd_pledged\": 502312,\n",
    "    \"kick_id\": 123434,\n",
    "},{\n",
    "    \"name\": \"Election\",\n",
    "    \"status\": \"failure\",\n",
    "    \"usd_pledged\": 5,\n",
    "    \"kick_id\": 234123,\n",
    "},{\n",
    "    \"name\": \"Some Obscure Kickstarter game with no BGG page\",\n",
    "    \"status\": \"success\",\n",
    "    \"usd_pledged\": 2132,\n",
    "    \"kick_id\": 523434,\n",
    "}])\n",
    "kick_BG"
   ]
  },
  {
   "cell_type": "code",
   "execution_count": 4,
   "metadata": {
    "execution": {
     "iopub.execute_input": "2020-08-03T20:02:49.079276Z",
     "iopub.status.busy": "2020-08-03T20:02:49.079061Z",
     "iopub.status.idle": "2020-08-03T20:02:49.084348Z",
     "shell.execute_reply": "2020-08-03T20:02:49.083723Z",
     "shell.execute_reply.started": "2020-08-03T20:02:49.079252Z"
    }
   },
   "outputs": [],
   "source": [
    "\"\"\"\n",
    "Given a name (e.g. \"Gloomhaven: Best Board Game Ever\")\n",
    "and a list of other names (e.g. [\"Gloomhaven\", \"Pandemic\"]) (this list will likely be a whole column of names, e.g. BGG[\"names\"]),\n",
    "Return the name in the list which has the highest fuzz.partial_ratio,\n",
    "but the partial_ratio has to be over a threshold (default: 70).\n",
    "\"\"\"\n",
    "def best_partial_ratio(name, other_names, threshold=90):\n",
    "    scores = [(other_name, fuzz.partial_ratio(name, other_name)) for other_name in other_names]\n",
    "    best = max(scores, key=lambda p: p[1])\n",
    "    if best[1] > threshold:\n",
    "        return best\n",
    "    return None, 0\n"
   ]
  },
  {
   "cell_type": "code",
   "execution_count": 5,
   "metadata": {
    "execution": {
     "iopub.execute_input": "2020-08-03T20:02:50.258448Z",
     "iopub.status.busy": "2020-08-03T20:02:50.258235Z",
     "iopub.status.idle": "2020-08-03T20:02:50.263110Z",
     "shell.execute_reply": "2020-08-03T20:02:50.262508Z",
     "shell.execute_reply.started": "2020-08-03T20:02:50.258424Z"
    },
    "tags": []
   },
   "outputs": [
    {
     "name": "stdout",
     "output_type": "stream",
     "text": [
      "('Gloomhaven', 100)\n",
      "('Election', 100)\n",
      "(None, 0)\n"
     ]
    }
   ],
   "source": [
    "# Example usage\n",
    "print(best_partial_ratio(\"Gloomhaven: the best board game of all time\", BGG[\"names\"]))\n",
    "print(best_partial_ratio(\"Election\", BGG[\"names\"]))\n",
    "print(best_partial_ratio(\"Some Kickstarter Game with no BGG Page\", BGG[\"names\"]))\n"
   ]
  },
  {
   "cell_type": "code",
   "execution_count": 6,
   "metadata": {
    "execution": {
     "iopub.execute_input": "2020-08-03T20:02:50.733368Z",
     "iopub.status.busy": "2020-08-03T20:02:50.733158Z",
     "iopub.status.idle": "2020-08-03T20:02:50.739606Z",
     "shell.execute_reply": "2020-08-03T20:02:50.738889Z",
     "shell.execute_reply.started": "2020-08-03T20:02:50.733345Z"
    }
   },
   "outputs": [],
   "source": [
    "# Add a new column to kick_BG, indicating which name on BGG it matched with most closely\n",
    "kick_BG[\"BGG_match\"] = kick_BG[\"name\"].apply(lambda x: best_partial_ratio(x, BGG[\"names\"])[0])"
   ]
  },
  {
   "cell_type": "code",
   "execution_count": 7,
   "metadata": {
    "execution": {
     "iopub.execute_input": "2020-08-03T20:02:51.300460Z",
     "iopub.status.busy": "2020-08-03T20:02:51.300225Z",
     "iopub.status.idle": "2020-08-03T20:02:51.308837Z",
     "shell.execute_reply": "2020-08-03T20:02:51.308143Z",
     "shell.execute_reply.started": "2020-08-03T20:02:51.300436Z"
    }
   },
   "outputs": [
    {
     "data": {
      "text/html": [
       "<div>\n",
       "<style scoped>\n",
       "    .dataframe tbody tr th:only-of-type {\n",
       "        vertical-align: middle;\n",
       "    }\n",
       "\n",
       "    .dataframe tbody tr th {\n",
       "        vertical-align: top;\n",
       "    }\n",
       "\n",
       "    .dataframe thead th {\n",
       "        text-align: right;\n",
       "    }\n",
       "</style>\n",
       "<table border=\"1\" class=\"dataframe\">\n",
       "  <thead>\n",
       "    <tr style=\"text-align: right;\">\n",
       "      <th></th>\n",
       "      <th>name</th>\n",
       "      <th>status</th>\n",
       "      <th>usd_pledged</th>\n",
       "      <th>kick_id</th>\n",
       "      <th>BGG_match</th>\n",
       "    </tr>\n",
       "  </thead>\n",
       "  <tbody>\n",
       "    <tr>\n",
       "      <th>0</th>\n",
       "      <td>Gloomhaven: The Best Game Ever</td>\n",
       "      <td>success</td>\n",
       "      <td>502312</td>\n",
       "      <td>123434</td>\n",
       "      <td>Gloomhaven</td>\n",
       "    </tr>\n",
       "    <tr>\n",
       "      <th>1</th>\n",
       "      <td>Election</td>\n",
       "      <td>failure</td>\n",
       "      <td>5</td>\n",
       "      <td>234123</td>\n",
       "      <td>Election</td>\n",
       "    </tr>\n",
       "    <tr>\n",
       "      <th>2</th>\n",
       "      <td>Some Obscure Kickstarter game with no BGG page</td>\n",
       "      <td>success</td>\n",
       "      <td>2132</td>\n",
       "      <td>523434</td>\n",
       "      <td>None</td>\n",
       "    </tr>\n",
       "  </tbody>\n",
       "</table>\n",
       "</div>"
      ],
      "text/plain": [
       "                                             name   status  usd_pledged  \\\n",
       "0                  Gloomhaven: The Best Game Ever  success       502312   \n",
       "1                                        Election  failure            5   \n",
       "2  Some Obscure Kickstarter game with no BGG page  success         2132   \n",
       "\n",
       "   kick_id   BGG_match  \n",
       "0   123434  Gloomhaven  \n",
       "1   234123    Election  \n",
       "2   523434        None  "
      ]
     },
     "execution_count": 7,
     "metadata": {},
     "output_type": "execute_result"
    }
   ],
   "source": [
    "kick_BG"
   ]
  },
  {
   "cell_type": "code",
   "execution_count": 8,
   "metadata": {
    "execution": {
     "iopub.execute_input": "2020-08-03T20:02:51.811480Z",
     "iopub.status.busy": "2020-08-03T20:02:51.811248Z",
     "iopub.status.idle": "2020-08-03T20:02:51.825861Z",
     "shell.execute_reply": "2020-08-03T20:02:51.825235Z",
     "shell.execute_reply.started": "2020-08-03T20:02:51.811456Z"
    }
   },
   "outputs": [],
   "source": [
    "# Merge (using exact match) on kick_BG.BGG_match and BGG.names\n",
    "merged = pd.merge(kick_BG, BGG, how=\"inner\", left_on=\"BGG_match\", right_on=\"names\")\n",
    "# Delete temporary column BGG_match\n",
    "merged = merged.drop(\"BGG_match\", axis=1)"
   ]
  },
  {
   "cell_type": "code",
   "execution_count": 9,
   "metadata": {
    "execution": {
     "iopub.execute_input": "2020-08-03T20:02:52.525458Z",
     "iopub.status.busy": "2020-08-03T20:02:52.525251Z",
     "iopub.status.idle": "2020-08-03T20:02:52.534573Z",
     "shell.execute_reply": "2020-08-03T20:02:52.534061Z",
     "shell.execute_reply.started": "2020-08-03T20:02:52.525435Z"
    }
   },
   "outputs": [
    {
     "data": {
      "text/html": [
       "<div>\n",
       "<style scoped>\n",
       "    .dataframe tbody tr th:only-of-type {\n",
       "        vertical-align: middle;\n",
       "    }\n",
       "\n",
       "    .dataframe tbody tr th {\n",
       "        vertical-align: top;\n",
       "    }\n",
       "\n",
       "    .dataframe thead th {\n",
       "        text-align: right;\n",
       "    }\n",
       "</style>\n",
       "<table border=\"1\" class=\"dataframe\">\n",
       "  <thead>\n",
       "    <tr style=\"text-align: right;\">\n",
       "      <th></th>\n",
       "      <th>name</th>\n",
       "      <th>status</th>\n",
       "      <th>usd_pledged</th>\n",
       "      <th>kick_id</th>\n",
       "      <th>names</th>\n",
       "      <th>id</th>\n",
       "      <th>rating</th>\n",
       "      <th>num_reviewers</th>\n",
       "    </tr>\n",
       "  </thead>\n",
       "  <tbody>\n",
       "    <tr>\n",
       "      <th>0</th>\n",
       "      <td>Gloomhaven: The Best Game Ever</td>\n",
       "      <td>success</td>\n",
       "      <td>502312</td>\n",
       "      <td>123434</td>\n",
       "      <td>Gloomhaven</td>\n",
       "      <td>123</td>\n",
       "      <td>9.5</td>\n",
       "      <td>644</td>\n",
       "    </tr>\n",
       "    <tr>\n",
       "      <th>1</th>\n",
       "      <td>Election</td>\n",
       "      <td>failure</td>\n",
       "      <td>5</td>\n",
       "      <td>234123</td>\n",
       "      <td>Election</td>\n",
       "      <td>344</td>\n",
       "      <td>8.5</td>\n",
       "      <td>134</td>\n",
       "    </tr>\n",
       "  </tbody>\n",
       "</table>\n",
       "</div>"
      ],
      "text/plain": [
       "                             name   status  usd_pledged  kick_id       names  \\\n",
       "0  Gloomhaven: The Best Game Ever  success       502312   123434  Gloomhaven   \n",
       "1                        Election  failure            5   234123    Election   \n",
       "\n",
       "    id rating  num_reviewers  \n",
       "0  123    9.5            644  \n",
       "1  344    8.5            134  "
      ]
     },
     "execution_count": 9,
     "metadata": {},
     "output_type": "execute_result"
    }
   ],
   "source": [
    "merged # now contains data from both BGG and kick_BG"
   ]
  },
  {
   "cell_type": "code",
   "execution_count": null,
   "metadata": {},
   "outputs": [],
   "source": []
  },
  {
   "cell_type": "code",
   "execution_count": null,
   "metadata": {},
   "outputs": [],
   "source": []
  }
 ],
 "metadata": {
  "kernelspec": {
   "display_name": "Python [conda env:metis] *",
   "language": "python",
   "name": "conda-env-metis-py"
  },
  "language_info": {
   "codemirror_mode": {
    "name": "ipython",
    "version": 3
   },
   "file_extension": ".py",
   "mimetype": "text/x-python",
   "name": "python",
   "nbconvert_exporter": "python",
   "pygments_lexer": "ipython3",
   "version": "3.8.3"
  }
 },
 "nbformat": 4,
 "nbformat_minor": 4
}
